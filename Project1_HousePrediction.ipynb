{
  "cells": [
    {
      "cell_type": "markdown",
      "metadata": {
        "id": "view-in-github",
        "colab_type": "text"
      },
      "source": [
        "<a href=\"https://colab.research.google.com/github/demward/NeuralNetwork_HousePrice_Prediction/blob/master/Project1_HousePrediction.ipynb\" target=\"_parent\"><img src=\"https://colab.research.google.com/assets/colab-badge.svg\" alt=\"Open In Colab\"/></a>"
      ]
    },
    {
      "cell_type": "markdown",
      "metadata": {
        "id": "4bslH2yzfaWI"
      },
      "source": [
        "# House Price Prediction"
      ]
    },
    {
      "cell_type": "markdown",
      "metadata": {
        "id": "E1n7NO8gfS2Y"
      },
      "source": [
        "## Importing Libraries"
      ]
    },
    {
      "cell_type": "code",
      "execution_count": 4,
      "metadata": {
        "id": "lO99omoheQog"
      },
      "outputs": [],
      "source": [
        "import numpy as np\n",
        "import pandas as pd\n",
        "import tensorflow as tf\n",
        "import seaborn as sns\n",
        "import matplotlib.pyplot as plt"
      ]
    },
    {
      "cell_type": "markdown",
      "metadata": {
        "id": "ikpK-mJlffDi"
      },
      "source": [
        "## Data Extraction"
      ]
    },
    {
      "cell_type": "markdown",
      "metadata": {
        "id": "k_peL863fjaJ"
      },
      "source": [
        "Visualize the data"
      ]
    },
    {
      "cell_type": "code",
      "execution_count": 56,
      "metadata": {
        "colab": {
          "base_uri": "https://localhost:8080/",
          "height": 255
        },
        "id": "F5Orr7E0fCwX",
        "outputId": "dbfffe3a-4122-49e3-c12b-80aa11a9fd70"
      },
      "outputs": [
        {
          "output_type": "execute_result",
          "data": {
            "text/plain": [
              "           id             date     price  bedrooms  bathrooms  sqft_living  \\\n",
              "0  7129300520  20141013T000000  221900.0         3       1.00         1180   \n",
              "1  6414100192  20141209T000000  538000.0         3       2.25         2570   \n",
              "2  5631500400  20150225T000000  180000.0         2       1.00          770   \n",
              "3  2487200875  20141209T000000  604000.0         4       3.00         1960   \n",
              "4  1954400510  20150218T000000  510000.0         3       2.00         1680   \n",
              "\n",
              "   sqft_lot  floors  waterfront  view  ...  grade  sqft_above  sqft_basement  \\\n",
              "0      5650     1.0           0     0  ...      7        1180              0   \n",
              "1      7242     2.0           0     0  ...      7        2170            400   \n",
              "2     10000     1.0           0     0  ...      6         770              0   \n",
              "3      5000     1.0           0     0  ...      7        1050            910   \n",
              "4      8080     1.0           0     0  ...      8        1680              0   \n",
              "\n",
              "   yr_built  yr_renovated  zipcode      lat     long  sqft_living15  \\\n",
              "0      1955             0    98178  47.5112 -122.257           1340   \n",
              "1      1951          1991    98125  47.7210 -122.319           1690   \n",
              "2      1933             0    98028  47.7379 -122.233           2720   \n",
              "3      1965             0    98136  47.5208 -122.393           1360   \n",
              "4      1987             0    98074  47.6168 -122.045           1800   \n",
              "\n",
              "   sqft_lot15  \n",
              "0        5650  \n",
              "1        7639  \n",
              "2        8062  \n",
              "3        5000  \n",
              "4        7503  \n",
              "\n",
              "[5 rows x 21 columns]"
            ],
            "text/html": [
              "\n",
              "  <div id=\"df-0883fb81-0e6b-40f0-a5df-027f3876c528\" class=\"colab-df-container\">\n",
              "    <div>\n",
              "<style scoped>\n",
              "    .dataframe tbody tr th:only-of-type {\n",
              "        vertical-align: middle;\n",
              "    }\n",
              "\n",
              "    .dataframe tbody tr th {\n",
              "        vertical-align: top;\n",
              "    }\n",
              "\n",
              "    .dataframe thead th {\n",
              "        text-align: right;\n",
              "    }\n",
              "</style>\n",
              "<table border=\"1\" class=\"dataframe\">\n",
              "  <thead>\n",
              "    <tr style=\"text-align: right;\">\n",
              "      <th></th>\n",
              "      <th>id</th>\n",
              "      <th>date</th>\n",
              "      <th>price</th>\n",
              "      <th>bedrooms</th>\n",
              "      <th>bathrooms</th>\n",
              "      <th>sqft_living</th>\n",
              "      <th>sqft_lot</th>\n",
              "      <th>floors</th>\n",
              "      <th>waterfront</th>\n",
              "      <th>view</th>\n",
              "      <th>...</th>\n",
              "      <th>grade</th>\n",
              "      <th>sqft_above</th>\n",
              "      <th>sqft_basement</th>\n",
              "      <th>yr_built</th>\n",
              "      <th>yr_renovated</th>\n",
              "      <th>zipcode</th>\n",
              "      <th>lat</th>\n",
              "      <th>long</th>\n",
              "      <th>sqft_living15</th>\n",
              "      <th>sqft_lot15</th>\n",
              "    </tr>\n",
              "  </thead>\n",
              "  <tbody>\n",
              "    <tr>\n",
              "      <th>0</th>\n",
              "      <td>7129300520</td>\n",
              "      <td>20141013T000000</td>\n",
              "      <td>221900.0</td>\n",
              "      <td>3</td>\n",
              "      <td>1.00</td>\n",
              "      <td>1180</td>\n",
              "      <td>5650</td>\n",
              "      <td>1.0</td>\n",
              "      <td>0</td>\n",
              "      <td>0</td>\n",
              "      <td>...</td>\n",
              "      <td>7</td>\n",
              "      <td>1180</td>\n",
              "      <td>0</td>\n",
              "      <td>1955</td>\n",
              "      <td>0</td>\n",
              "      <td>98178</td>\n",
              "      <td>47.5112</td>\n",
              "      <td>-122.257</td>\n",
              "      <td>1340</td>\n",
              "      <td>5650</td>\n",
              "    </tr>\n",
              "    <tr>\n",
              "      <th>1</th>\n",
              "      <td>6414100192</td>\n",
              "      <td>20141209T000000</td>\n",
              "      <td>538000.0</td>\n",
              "      <td>3</td>\n",
              "      <td>2.25</td>\n",
              "      <td>2570</td>\n",
              "      <td>7242</td>\n",
              "      <td>2.0</td>\n",
              "      <td>0</td>\n",
              "      <td>0</td>\n",
              "      <td>...</td>\n",
              "      <td>7</td>\n",
              "      <td>2170</td>\n",
              "      <td>400</td>\n",
              "      <td>1951</td>\n",
              "      <td>1991</td>\n",
              "      <td>98125</td>\n",
              "      <td>47.7210</td>\n",
              "      <td>-122.319</td>\n",
              "      <td>1690</td>\n",
              "      <td>7639</td>\n",
              "    </tr>\n",
              "    <tr>\n",
              "      <th>2</th>\n",
              "      <td>5631500400</td>\n",
              "      <td>20150225T000000</td>\n",
              "      <td>180000.0</td>\n",
              "      <td>2</td>\n",
              "      <td>1.00</td>\n",
              "      <td>770</td>\n",
              "      <td>10000</td>\n",
              "      <td>1.0</td>\n",
              "      <td>0</td>\n",
              "      <td>0</td>\n",
              "      <td>...</td>\n",
              "      <td>6</td>\n",
              "      <td>770</td>\n",
              "      <td>0</td>\n",
              "      <td>1933</td>\n",
              "      <td>0</td>\n",
              "      <td>98028</td>\n",
              "      <td>47.7379</td>\n",
              "      <td>-122.233</td>\n",
              "      <td>2720</td>\n",
              "      <td>8062</td>\n",
              "    </tr>\n",
              "    <tr>\n",
              "      <th>3</th>\n",
              "      <td>2487200875</td>\n",
              "      <td>20141209T000000</td>\n",
              "      <td>604000.0</td>\n",
              "      <td>4</td>\n",
              "      <td>3.00</td>\n",
              "      <td>1960</td>\n",
              "      <td>5000</td>\n",
              "      <td>1.0</td>\n",
              "      <td>0</td>\n",
              "      <td>0</td>\n",
              "      <td>...</td>\n",
              "      <td>7</td>\n",
              "      <td>1050</td>\n",
              "      <td>910</td>\n",
              "      <td>1965</td>\n",
              "      <td>0</td>\n",
              "      <td>98136</td>\n",
              "      <td>47.5208</td>\n",
              "      <td>-122.393</td>\n",
              "      <td>1360</td>\n",
              "      <td>5000</td>\n",
              "    </tr>\n",
              "    <tr>\n",
              "      <th>4</th>\n",
              "      <td>1954400510</td>\n",
              "      <td>20150218T000000</td>\n",
              "      <td>510000.0</td>\n",
              "      <td>3</td>\n",
              "      <td>2.00</td>\n",
              "      <td>1680</td>\n",
              "      <td>8080</td>\n",
              "      <td>1.0</td>\n",
              "      <td>0</td>\n",
              "      <td>0</td>\n",
              "      <td>...</td>\n",
              "      <td>8</td>\n",
              "      <td>1680</td>\n",
              "      <td>0</td>\n",
              "      <td>1987</td>\n",
              "      <td>0</td>\n",
              "      <td>98074</td>\n",
              "      <td>47.6168</td>\n",
              "      <td>-122.045</td>\n",
              "      <td>1800</td>\n",
              "      <td>7503</td>\n",
              "    </tr>\n",
              "  </tbody>\n",
              "</table>\n",
              "<p>5 rows × 21 columns</p>\n",
              "</div>\n",
              "    <div class=\"colab-df-buttons\">\n",
              "\n",
              "  <div class=\"colab-df-container\">\n",
              "    <button class=\"colab-df-convert\" onclick=\"convertToInteractive('df-0883fb81-0e6b-40f0-a5df-027f3876c528')\"\n",
              "            title=\"Convert this dataframe to an interactive table.\"\n",
              "            style=\"display:none;\">\n",
              "\n",
              "  <svg xmlns=\"http://www.w3.org/2000/svg\" height=\"24px\" viewBox=\"0 -960 960 960\">\n",
              "    <path d=\"M120-120v-720h720v720H120Zm60-500h600v-160H180v160Zm220 220h160v-160H400v160Zm0 220h160v-160H400v160ZM180-400h160v-160H180v160Zm440 0h160v-160H620v160ZM180-180h160v-160H180v160Zm440 0h160v-160H620v160Z\"/>\n",
              "  </svg>\n",
              "    </button>\n",
              "\n",
              "  <style>\n",
              "    .colab-df-container {\n",
              "      display:flex;\n",
              "      gap: 12px;\n",
              "    }\n",
              "\n",
              "    .colab-df-convert {\n",
              "      background-color: #E8F0FE;\n",
              "      border: none;\n",
              "      border-radius: 50%;\n",
              "      cursor: pointer;\n",
              "      display: none;\n",
              "      fill: #1967D2;\n",
              "      height: 32px;\n",
              "      padding: 0 0 0 0;\n",
              "      width: 32px;\n",
              "    }\n",
              "\n",
              "    .colab-df-convert:hover {\n",
              "      background-color: #E2EBFA;\n",
              "      box-shadow: 0px 1px 2px rgba(60, 64, 67, 0.3), 0px 1px 3px 1px rgba(60, 64, 67, 0.15);\n",
              "      fill: #174EA6;\n",
              "    }\n",
              "\n",
              "    .colab-df-buttons div {\n",
              "      margin-bottom: 4px;\n",
              "    }\n",
              "\n",
              "    [theme=dark] .colab-df-convert {\n",
              "      background-color: #3B4455;\n",
              "      fill: #D2E3FC;\n",
              "    }\n",
              "\n",
              "    [theme=dark] .colab-df-convert:hover {\n",
              "      background-color: #434B5C;\n",
              "      box-shadow: 0px 1px 3px 1px rgba(0, 0, 0, 0.15);\n",
              "      filter: drop-shadow(0px 1px 2px rgba(0, 0, 0, 0.3));\n",
              "      fill: #FFFFFF;\n",
              "    }\n",
              "  </style>\n",
              "\n",
              "    <script>\n",
              "      const buttonEl =\n",
              "        document.querySelector('#df-0883fb81-0e6b-40f0-a5df-027f3876c528 button.colab-df-convert');\n",
              "      buttonEl.style.display =\n",
              "        google.colab.kernel.accessAllowed ? 'block' : 'none';\n",
              "\n",
              "      async function convertToInteractive(key) {\n",
              "        const element = document.querySelector('#df-0883fb81-0e6b-40f0-a5df-027f3876c528');\n",
              "        const dataTable =\n",
              "          await google.colab.kernel.invokeFunction('convertToInteractive',\n",
              "                                                    [key], {});\n",
              "        if (!dataTable) return;\n",
              "\n",
              "        const docLinkHtml = 'Like what you see? Visit the ' +\n",
              "          '<a target=\"_blank\" href=https://colab.research.google.com/notebooks/data_table.ipynb>data table notebook</a>'\n",
              "          + ' to learn more about interactive tables.';\n",
              "        element.innerHTML = '';\n",
              "        dataTable['output_type'] = 'display_data';\n",
              "        await google.colab.output.renderOutput(dataTable, element);\n",
              "        const docLink = document.createElement('div');\n",
              "        docLink.innerHTML = docLinkHtml;\n",
              "        element.appendChild(docLink);\n",
              "      }\n",
              "    </script>\n",
              "  </div>\n",
              "\n",
              "\n",
              "<div id=\"df-9d81b841-d961-4439-9b62-518dd492dd26\">\n",
              "  <button class=\"colab-df-quickchart\" onclick=\"quickchart('df-9d81b841-d961-4439-9b62-518dd492dd26')\"\n",
              "            title=\"Suggest charts\"\n",
              "            style=\"display:none;\">\n",
              "\n",
              "<svg xmlns=\"http://www.w3.org/2000/svg\" height=\"24px\"viewBox=\"0 0 24 24\"\n",
              "     width=\"24px\">\n",
              "    <g>\n",
              "        <path d=\"M19 3H5c-1.1 0-2 .9-2 2v14c0 1.1.9 2 2 2h14c1.1 0 2-.9 2-2V5c0-1.1-.9-2-2-2zM9 17H7v-7h2v7zm4 0h-2V7h2v10zm4 0h-2v-4h2v4z\"/>\n",
              "    </g>\n",
              "</svg>\n",
              "  </button>\n",
              "\n",
              "<style>\n",
              "  .colab-df-quickchart {\n",
              "      --bg-color: #E8F0FE;\n",
              "      --fill-color: #1967D2;\n",
              "      --hover-bg-color: #E2EBFA;\n",
              "      --hover-fill-color: #174EA6;\n",
              "      --disabled-fill-color: #AAA;\n",
              "      --disabled-bg-color: #DDD;\n",
              "  }\n",
              "\n",
              "  [theme=dark] .colab-df-quickchart {\n",
              "      --bg-color: #3B4455;\n",
              "      --fill-color: #D2E3FC;\n",
              "      --hover-bg-color: #434B5C;\n",
              "      --hover-fill-color: #FFFFFF;\n",
              "      --disabled-bg-color: #3B4455;\n",
              "      --disabled-fill-color: #666;\n",
              "  }\n",
              "\n",
              "  .colab-df-quickchart {\n",
              "    background-color: var(--bg-color);\n",
              "    border: none;\n",
              "    border-radius: 50%;\n",
              "    cursor: pointer;\n",
              "    display: none;\n",
              "    fill: var(--fill-color);\n",
              "    height: 32px;\n",
              "    padding: 0;\n",
              "    width: 32px;\n",
              "  }\n",
              "\n",
              "  .colab-df-quickchart:hover {\n",
              "    background-color: var(--hover-bg-color);\n",
              "    box-shadow: 0 1px 2px rgba(60, 64, 67, 0.3), 0 1px 3px 1px rgba(60, 64, 67, 0.15);\n",
              "    fill: var(--button-hover-fill-color);\n",
              "  }\n",
              "\n",
              "  .colab-df-quickchart-complete:disabled,\n",
              "  .colab-df-quickchart-complete:disabled:hover {\n",
              "    background-color: var(--disabled-bg-color);\n",
              "    fill: var(--disabled-fill-color);\n",
              "    box-shadow: none;\n",
              "  }\n",
              "\n",
              "  .colab-df-spinner {\n",
              "    border: 2px solid var(--fill-color);\n",
              "    border-color: transparent;\n",
              "    border-bottom-color: var(--fill-color);\n",
              "    animation:\n",
              "      spin 1s steps(1) infinite;\n",
              "  }\n",
              "\n",
              "  @keyframes spin {\n",
              "    0% {\n",
              "      border-color: transparent;\n",
              "      border-bottom-color: var(--fill-color);\n",
              "      border-left-color: var(--fill-color);\n",
              "    }\n",
              "    20% {\n",
              "      border-color: transparent;\n",
              "      border-left-color: var(--fill-color);\n",
              "      border-top-color: var(--fill-color);\n",
              "    }\n",
              "    30% {\n",
              "      border-color: transparent;\n",
              "      border-left-color: var(--fill-color);\n",
              "      border-top-color: var(--fill-color);\n",
              "      border-right-color: var(--fill-color);\n",
              "    }\n",
              "    40% {\n",
              "      border-color: transparent;\n",
              "      border-right-color: var(--fill-color);\n",
              "      border-top-color: var(--fill-color);\n",
              "    }\n",
              "    60% {\n",
              "      border-color: transparent;\n",
              "      border-right-color: var(--fill-color);\n",
              "    }\n",
              "    80% {\n",
              "      border-color: transparent;\n",
              "      border-right-color: var(--fill-color);\n",
              "      border-bottom-color: var(--fill-color);\n",
              "    }\n",
              "    90% {\n",
              "      border-color: transparent;\n",
              "      border-bottom-color: var(--fill-color);\n",
              "    }\n",
              "  }\n",
              "</style>\n",
              "\n",
              "  <script>\n",
              "    async function quickchart(key) {\n",
              "      const quickchartButtonEl =\n",
              "        document.querySelector('#' + key + ' button');\n",
              "      quickchartButtonEl.disabled = true;  // To prevent multiple clicks.\n",
              "      quickchartButtonEl.classList.add('colab-df-spinner');\n",
              "      try {\n",
              "        const charts = await google.colab.kernel.invokeFunction(\n",
              "            'suggestCharts', [key], {});\n",
              "      } catch (error) {\n",
              "        console.error('Error during call to suggestCharts:', error);\n",
              "      }\n",
              "      quickchartButtonEl.classList.remove('colab-df-spinner');\n",
              "      quickchartButtonEl.classList.add('colab-df-quickchart-complete');\n",
              "    }\n",
              "    (() => {\n",
              "      let quickchartButtonEl =\n",
              "        document.querySelector('#df-9d81b841-d961-4439-9b62-518dd492dd26 button');\n",
              "      quickchartButtonEl.style.display =\n",
              "        google.colab.kernel.accessAllowed ? 'block' : 'none';\n",
              "    })();\n",
              "  </script>\n",
              "</div>\n",
              "\n",
              "    </div>\n",
              "  </div>\n"
            ],
            "application/vnd.google.colaboratory.intrinsic+json": {
              "type": "dataframe",
              "variable_name": "houses"
            }
          },
          "metadata": {},
          "execution_count": 56
        }
      ],
      "source": [
        "houses = pd.read_csv('kc_house_data.csv')\n",
        "houses.head()"
      ]
    },
    {
      "cell_type": "markdown",
      "source": [
        "Remove outliers"
      ],
      "metadata": {
        "id": "5AKQH4cPxnMG"
      }
    },
    {
      "cell_type": "code",
      "source": [
        "category_series=houses['price'].value_counts()\n",
        "\n",
        "category_series[category_series>=5].index\n",
        "\n",
        "filtered_house=houses[houses['price'].isin(category_series[category_series>=5].index)]"
      ],
      "metadata": {
        "id": "FLs9CS8lxj6V"
      },
      "execution_count": 57,
      "outputs": []
    },
    {
      "cell_type": "code",
      "execution_count": 63,
      "metadata": {
        "id": "YDch0CzWfP5H"
      },
      "outputs": [],
      "source": [
        "X = filtered_house.drop(['price','id','date'], axis = 1)\n",
        "y = filtered_house['price']"
      ]
    },
    {
      "cell_type": "code",
      "execution_count": 64,
      "metadata": {
        "colab": {
          "base_uri": "https://localhost:8080/"
        },
        "id": "B0nIgK6vf_KD",
        "outputId": "acc32616-4bdd-4220-9d18-b78ea495af14"
      },
      "outputs": [
        {
          "output_type": "execute_result",
          "data": {
            "text/plain": [
              "Index(['bedrooms', 'bathrooms', 'sqft_living', 'sqft_lot', 'floors',\n",
              "       'waterfront', 'view', 'condition', 'grade', 'sqft_above',\n",
              "       'sqft_basement', 'yr_built', 'yr_renovated', 'zipcode', 'lat', 'long',\n",
              "       'sqft_living15', 'sqft_lot15'],\n",
              "      dtype='object')"
            ]
          },
          "metadata": {},
          "execution_count": 64
        }
      ],
      "source": [
        "X.columns"
      ]
    },
    {
      "cell_type": "markdown",
      "metadata": {
        "id": "HoFFhrFCgIy3"
      },
      "source": [
        "## Split the data between test set and train set"
      ]
    },
    {
      "cell_type": "code",
      "execution_count": 65,
      "metadata": {
        "id": "hF0XUtbMgtzY"
      },
      "outputs": [],
      "source": [
        "from sklearn.model_selection import train_test_split\n",
        "\n",
        "X_train, X_test, y_train, y_test = train_test_split(X, y, test_size = 0.2,\n",
        "                                                    stratify = y, random_state = 27)\n",
        "\n"
      ]
    },
    {
      "cell_type": "markdown",
      "metadata": {
        "id": "fpFvn5GHg5Zo"
      },
      "source": [
        "## Standarize and One Hot Encode the dataset"
      ]
    },
    {
      "cell_type": "code",
      "execution_count": 66,
      "metadata": {
        "id": "S9MG1pangvob"
      },
      "outputs": [],
      "source": [
        "from sklearn.preprocessing import MinMaxScaler, StandardScaler, OneHotEncoder\n",
        "from sklearn.compose import make_column_transformer\n",
        "\n",
        "ct = make_column_transformer(\n",
        "    (MinMaxScaler(), [\"bedrooms\", \"bathrooms\", \"sqft_living\",\"sqft_lot\",'floors',\n",
        "       \"waterfront\", \"view\", \"condition\", \"grade\", \"sqft_above\",\"sqft_basement\", \"yr_built\"\n",
        "       , \"yr_renovated\", \"lat\", \"long\",\"sqft_living15\", \"sqft_lot15\"]),\n",
        "    (OneHotEncoder(handle_unknown=\"ignore\"), [\"zipcode\"])\n",
        ")\n",
        "\n",
        "ct.fit(X_train)\n",
        "\n",
        "X_train_standard = ct.transform(X_train)\n",
        "X_test_standard = ct.transform(X_test)"
      ]
    },
    {
      "cell_type": "code",
      "execution_count": 67,
      "metadata": {
        "colab": {
          "base_uri": "https://localhost:8080/"
        },
        "id": "D-by_dUEqDMF",
        "outputId": "95d183c4-d063-4214-bc6a-bdaa2fd6b836"
      },
      "outputs": [
        {
          "output_type": "execute_result",
          "data": {
            "text/plain": [
              "(1, 87)"
            ]
          },
          "metadata": {},
          "execution_count": 67
        }
      ],
      "source": [
        "X_train_standard[0].shape"
      ]
    },
    {
      "cell_type": "markdown",
      "metadata": {
        "id": "WTJWX3_x6_z6"
      },
      "source": [
        "## Model Implementation\n"
      ]
    },
    {
      "cell_type": "code",
      "execution_count": 91,
      "metadata": {
        "colab": {
          "base_uri": "https://localhost:8080/"
        },
        "id": "_4Iq0qMKim8P",
        "outputId": "f936bc7c-310d-41fc-e0d6-07f0221c7c8d"
      },
      "outputs": [
        {
          "output_type": "stream",
          "name": "stdout",
          "text": [
            "Epoch 1/200\n",
            "\u001b[1m428/428\u001b[0m \u001b[32m━━━━━━━━━━━━━━━━━━━━\u001b[0m\u001b[37m\u001b[0m \u001b[1m3s\u001b[0m 3ms/step - loss: 102599647232.0000 - mae: 209265.3438 - mape: 43.1737 - mse: 102599647232.0000\n",
            "Epoch 2/200\n",
            "\u001b[1m428/428\u001b[0m \u001b[32m━━━━━━━━━━━━━━━━━━━━\u001b[0m\u001b[37m\u001b[0m \u001b[1m2s\u001b[0m 2ms/step - loss: 16289373184.0000 - mae: 81114.6484 - mape: 17.2283 - mse: 16289373184.0000\n",
            "Epoch 3/200\n",
            "\u001b[1m428/428\u001b[0m \u001b[32m━━━━━━━━━━━━━━━━━━━━\u001b[0m\u001b[37m\u001b[0m \u001b[1m1s\u001b[0m 2ms/step - loss: 14960589824.0000 - mae: 78013.4688 - mape: 16.5554 - mse: 14960589824.0000\n",
            "Epoch 4/200\n",
            "\u001b[1m428/428\u001b[0m \u001b[32m━━━━━━━━━━━━━━━━━━━━\u001b[0m\u001b[37m\u001b[0m \u001b[1m1s\u001b[0m 2ms/step - loss: 13471136768.0000 - mae: 73876.1250 - mape: 15.5513 - mse: 13471136768.0000\n",
            "Epoch 5/200\n",
            "\u001b[1m428/428\u001b[0m \u001b[32m━━━━━━━━━━━━━━━━━━━━\u001b[0m\u001b[37m\u001b[0m \u001b[1m1s\u001b[0m 2ms/step - loss: 12514780160.0000 - mae: 71252.9141 - mape: 14.8779 - mse: 12514780160.0000\n",
            "Epoch 6/200\n",
            "\u001b[1m428/428\u001b[0m \u001b[32m━━━━━━━━━━━━━━━━━━━━\u001b[0m\u001b[37m\u001b[0m \u001b[1m1s\u001b[0m 2ms/step - loss: 11980935168.0000 - mae: 69902.3203 - mape: 14.5566 - mse: 11980935168.0000\n",
            "Epoch 7/200\n",
            "\u001b[1m428/428\u001b[0m \u001b[32m━━━━━━━━━━━━━━━━━━━━\u001b[0m\u001b[37m\u001b[0m \u001b[1m1s\u001b[0m 2ms/step - loss: 11584349184.0000 - mae: 68929.7031 - mape: 14.3423 - mse: 11584349184.0000\n",
            "Epoch 8/200\n",
            "\u001b[1m428/428\u001b[0m \u001b[32m━━━━━━━━━━━━━━━━━━━━\u001b[0m\u001b[37m\u001b[0m \u001b[1m1s\u001b[0m 2ms/step - loss: 11260487680.0000 - mae: 68096.9609 - mape: 14.1609 - mse: 11260487680.0000\n",
            "Epoch 9/200\n",
            "\u001b[1m428/428\u001b[0m \u001b[32m━━━━━━━━━━━━━━━━━━━━\u001b[0m\u001b[37m\u001b[0m \u001b[1m2s\u001b[0m 3ms/step - loss: 11004937216.0000 - mae: 67483.9609 - mape: 14.0283 - mse: 11004937216.0000\n",
            "Epoch 10/200\n",
            "\u001b[1m428/428\u001b[0m \u001b[32m━━━━━━━━━━━━━━━━━━━━\u001b[0m\u001b[37m\u001b[0m \u001b[1m2s\u001b[0m 3ms/step - loss: 10815740928.0000 - mae: 67084.7656 - mape: 13.9465 - mse: 10815740928.0000\n",
            "Epoch 11/200\n",
            "\u001b[1m428/428\u001b[0m \u001b[32m━━━━━━━━━━━━━━━━━━━━\u001b[0m\u001b[37m\u001b[0m \u001b[1m2s\u001b[0m 4ms/step - loss: 10662979584.0000 - mae: 66817.1484 - mape: 13.8851 - mse: 10662979584.0000\n",
            "Epoch 12/200\n",
            "\u001b[1m428/428\u001b[0m \u001b[32m━━━━━━━━━━━━━━━━━━━━\u001b[0m\u001b[37m\u001b[0m \u001b[1m2s\u001b[0m 3ms/step - loss: 10538082304.0000 - mae: 66525.5156 - mape: 13.8241 - mse: 10538082304.0000\n",
            "Epoch 13/200\n",
            "\u001b[1m428/428\u001b[0m \u001b[32m━━━━━━━━━━━━━━━━━━━━\u001b[0m\u001b[37m\u001b[0m \u001b[1m1s\u001b[0m 3ms/step - loss: 10439522304.0000 - mae: 66311.7266 - mape: 13.7782 - mse: 10439522304.0000\n",
            "Epoch 14/200\n",
            "\u001b[1m428/428\u001b[0m \u001b[32m━━━━━━━━━━━━━━━━━━━━\u001b[0m\u001b[37m\u001b[0m \u001b[1m2s\u001b[0m 2ms/step - loss: 10353923072.0000 - mae: 66130.5391 - mape: 13.7416 - mse: 10353923072.0000\n",
            "Epoch 15/200\n",
            "\u001b[1m428/428\u001b[0m \u001b[32m━━━━━━━━━━━━━━━━━━━━\u001b[0m\u001b[37m\u001b[0m \u001b[1m1s\u001b[0m 2ms/step - loss: 10291386368.0000 - mae: 65971.1016 - mape: 13.7120 - mse: 10291386368.0000\n",
            "Epoch 16/200\n",
            "\u001b[1m428/428\u001b[0m \u001b[32m━━━━━━━━━━━━━━━━━━━━\u001b[0m\u001b[37m\u001b[0m \u001b[1m1s\u001b[0m 2ms/step - loss: 10238565376.0000 - mae: 65854.9062 - mape: 13.6861 - mse: 10238565376.0000\n",
            "Epoch 17/200\n",
            "\u001b[1m428/428\u001b[0m \u001b[32m━━━━━━━━━━━━━━━━━━━━\u001b[0m\u001b[37m\u001b[0m \u001b[1m1s\u001b[0m 2ms/step - loss: 10184221696.0000 - mae: 65715.4609 - mape: 13.6568 - mse: 10184221696.0000\n",
            "Epoch 18/200\n",
            "\u001b[1m428/428\u001b[0m \u001b[32m━━━━━━━━━━━━━━━━━━━━\u001b[0m\u001b[37m\u001b[0m \u001b[1m1s\u001b[0m 2ms/step - loss: 10150355968.0000 - mae: 65650.7188 - mape: 13.6398 - mse: 10150355968.0000\n",
            "Epoch 19/200\n",
            "\u001b[1m428/428\u001b[0m \u001b[32m━━━━━━━━━━━━━━━━━━━━\u001b[0m\u001b[37m\u001b[0m \u001b[1m2s\u001b[0m 3ms/step - loss: 10103581696.0000 - mae: 65480.7852 - mape: 13.6022 - mse: 10103581696.0000\n",
            "Epoch 20/200\n",
            "\u001b[1m428/428\u001b[0m \u001b[32m━━━━━━━━━━━━━━━━━━━━\u001b[0m\u001b[37m\u001b[0m \u001b[1m2s\u001b[0m 2ms/step - loss: 10046971904.0000 - mae: 65316.7188 - mape: 13.5662 - mse: 10046971904.0000\n",
            "Epoch 21/200\n",
            "\u001b[1m428/428\u001b[0m \u001b[32m━━━━━━━━━━━━━━━━━━━━\u001b[0m\u001b[37m\u001b[0m \u001b[1m1s\u001b[0m 2ms/step - loss: 10029238272.0000 - mae: 65228.9023 - mape: 13.5438 - mse: 10029238272.0000\n",
            "Epoch 22/200\n",
            "\u001b[1m428/428\u001b[0m \u001b[32m━━━━━━━━━━━━━━━━━━━━\u001b[0m\u001b[37m\u001b[0m \u001b[1m1s\u001b[0m 2ms/step - loss: 9979721728.0000 - mae: 65066.2188 - mape: 13.5048 - mse: 9979721728.0000\n",
            "Epoch 23/200\n",
            "\u001b[1m428/428\u001b[0m \u001b[32m━━━━━━━━━━━━━━━━━━━━\u001b[0m\u001b[37m\u001b[0m \u001b[1m1s\u001b[0m 2ms/step - loss: 9951626240.0000 - mae: 64943.3984 - mape: 13.4790 - mse: 9951626240.0000\n",
            "Epoch 24/200\n",
            "\u001b[1m428/428\u001b[0m \u001b[32m━━━━━━━━━━━━━━━━━━━━\u001b[0m\u001b[37m\u001b[0m \u001b[1m1s\u001b[0m 2ms/step - loss: 9920641024.0000 - mae: 64833.5586 - mape: 13.4511 - mse: 9920641024.0000\n",
            "Epoch 25/200\n",
            "\u001b[1m428/428\u001b[0m \u001b[32m━━━━━━━━━━━━━━━━━━━━\u001b[0m\u001b[37m\u001b[0m \u001b[1m1s\u001b[0m 2ms/step - loss: 9879411712.0000 - mae: 64682.2148 - mape: 13.4231 - mse: 9879411712.0000\n",
            "Epoch 26/200\n",
            "\u001b[1m428/428\u001b[0m \u001b[32m━━━━━━━━━━━━━━━━━━━━\u001b[0m\u001b[37m\u001b[0m \u001b[1m1s\u001b[0m 2ms/step - loss: 9841097728.0000 - mae: 64529.8359 - mape: 13.3924 - mse: 9841097728.0000\n",
            "Epoch 27/200\n",
            "\u001b[1m428/428\u001b[0m \u001b[32m━━━━━━━━━━━━━━━━━━━━\u001b[0m\u001b[37m\u001b[0m \u001b[1m1s\u001b[0m 2ms/step - loss: 9800223744.0000 - mae: 64398.5078 - mape: 13.3642 - mse: 9800223744.0000\n",
            "Epoch 28/200\n",
            "\u001b[1m428/428\u001b[0m \u001b[32m━━━━━━━━━━━━━━━━━━━━\u001b[0m\u001b[37m\u001b[0m \u001b[1m1s\u001b[0m 2ms/step - loss: 9768233984.0000 - mae: 64293.3086 - mape: 13.3402 - mse: 9768233984.0000\n",
            "Epoch 29/200\n",
            "\u001b[1m428/428\u001b[0m \u001b[32m━━━━━━━━━━━━━━━━━━━━\u001b[0m\u001b[37m\u001b[0m \u001b[1m1s\u001b[0m 2ms/step - loss: 9741157376.0000 - mae: 64208.2461 - mape: 13.3242 - mse: 9741157376.0000\n",
            "Epoch 30/200\n",
            "\u001b[1m428/428\u001b[0m \u001b[32m━━━━━━━━━━━━━━━━━━━━\u001b[0m\u001b[37m\u001b[0m \u001b[1m2s\u001b[0m 3ms/step - loss: 9697384448.0000 - mae: 64066.0039 - mape: 13.2972 - mse: 9697384448.0000\n",
            "Epoch 31/200\n",
            "\u001b[1m428/428\u001b[0m \u001b[32m━━━━━━━━━━━━━━━━━━━━\u001b[0m\u001b[37m\u001b[0m \u001b[1m2s\u001b[0m 2ms/step - loss: 9657208832.0000 - mae: 63943.5312 - mape: 13.2792 - mse: 9657208832.0000\n",
            "Epoch 32/200\n",
            "\u001b[1m428/428\u001b[0m \u001b[32m━━━━━━━━━━━━━━━━━━━━\u001b[0m\u001b[37m\u001b[0m \u001b[1m1s\u001b[0m 2ms/step - loss: 9626274816.0000 - mae: 63826.9141 - mape: 13.2494 - mse: 9626274816.0000\n",
            "Epoch 33/200\n",
            "\u001b[1m428/428\u001b[0m \u001b[32m━━━━━━━━━━━━━━━━━━━━\u001b[0m\u001b[37m\u001b[0m \u001b[1m1s\u001b[0m 2ms/step - loss: 9582064640.0000 - mae: 63696.7734 - mape: 13.2239 - mse: 9582064640.0000\n",
            "Epoch 34/200\n",
            "\u001b[1m428/428\u001b[0m \u001b[32m━━━━━━━━━━━━━━━━━━━━\u001b[0m\u001b[37m\u001b[0m \u001b[1m1s\u001b[0m 2ms/step - loss: 9543330816.0000 - mae: 63562.4023 - mape: 13.1951 - mse: 9543330816.0000\n",
            "Epoch 35/200\n",
            "\u001b[1m428/428\u001b[0m \u001b[32m━━━━━━━━━━━━━━━━━━━━\u001b[0m\u001b[37m\u001b[0m \u001b[1m1s\u001b[0m 2ms/step - loss: 9519458304.0000 - mae: 63466.5156 - mape: 13.1723 - mse: 9519458304.0000\n",
            "Epoch 36/200\n",
            "\u001b[1m428/428\u001b[0m \u001b[32m━━━━━━━━━━━━━━━━━━━━\u001b[0m\u001b[37m\u001b[0m \u001b[1m1s\u001b[0m 2ms/step - loss: 9490660352.0000 - mae: 63391.4766 - mape: 13.1561 - mse: 9490660352.0000\n",
            "Epoch 37/200\n",
            "\u001b[1m428/428\u001b[0m \u001b[32m━━━━━━━━━━━━━━━━━━━━\u001b[0m\u001b[37m\u001b[0m \u001b[1m1s\u001b[0m 2ms/step - loss: 9477584896.0000 - mae: 63326.8438 - mape: 13.1375 - mse: 9477584896.0000\n",
            "Epoch 38/200\n",
            "\u001b[1m428/428\u001b[0m \u001b[32m━━━━━━━━━━━━━━━━━━━━\u001b[0m\u001b[37m\u001b[0m \u001b[1m1s\u001b[0m 2ms/step - loss: 9450630144.0000 - mae: 63178.4219 - mape: 13.1071 - mse: 9450630144.0000\n",
            "Epoch 39/200\n",
            "\u001b[1m428/428\u001b[0m \u001b[32m━━━━━━━━━━━━━━━━━━━━\u001b[0m\u001b[37m\u001b[0m \u001b[1m1s\u001b[0m 2ms/step - loss: 9435637760.0000 - mae: 63109.7188 - mape: 13.0943 - mse: 9435637760.0000\n",
            "Epoch 40/200\n",
            "\u001b[1m428/428\u001b[0m \u001b[32m━━━━━━━━━━━━━━━━━━━━\u001b[0m\u001b[37m\u001b[0m \u001b[1m1s\u001b[0m 2ms/step - loss: 9414100992.0000 - mae: 63021.6719 - mape: 13.0718 - mse: 9414100992.0000\n",
            "Epoch 41/200\n",
            "\u001b[1m428/428\u001b[0m \u001b[32m━━━━━━━━━━━━━━━━━━━━\u001b[0m\u001b[37m\u001b[0m \u001b[1m2s\u001b[0m 3ms/step - loss: 9396367360.0000 - mae: 62932.4453 - mape: 13.0592 - mse: 9396367360.0000\n",
            "Epoch 42/200\n",
            "\u001b[1m428/428\u001b[0m \u001b[32m━━━━━━━━━━━━━━━━━━━━\u001b[0m\u001b[37m\u001b[0m \u001b[1m1s\u001b[0m 3ms/step - loss: 9362502656.0000 - mae: 62832.9336 - mape: 13.0367 - mse: 9362502656.0000\n",
            "Epoch 43/200\n",
            "\u001b[1m428/428\u001b[0m \u001b[32m━━━━━━━━━━━━━━━━━━━━\u001b[0m\u001b[37m\u001b[0m \u001b[1m1s\u001b[0m 2ms/step - loss: 9333553152.0000 - mae: 62773.9805 - mape: 13.0270 - mse: 9333553152.0000\n",
            "Epoch 44/200\n",
            "\u001b[1m428/428\u001b[0m \u001b[32m━━━━━━━━━━━━━━━━━━━━\u001b[0m\u001b[37m\u001b[0m \u001b[1m1s\u001b[0m 2ms/step - loss: 9281340416.0000 - mae: 62614.6602 - mape: 12.9955 - mse: 9281340416.0000\n",
            "Epoch 45/200\n",
            "\u001b[1m428/428\u001b[0m \u001b[32m━━━━━━━━━━━━━━━━━━━━\u001b[0m\u001b[37m\u001b[0m \u001b[1m1s\u001b[0m 2ms/step - loss: 9251416064.0000 - mae: 62554.4570 - mape: 12.9825 - mse: 9251416064.0000\n",
            "Epoch 46/200\n",
            "\u001b[1m428/428\u001b[0m \u001b[32m━━━━━━━━━━━━━━━━━━━━\u001b[0m\u001b[37m\u001b[0m \u001b[1m1s\u001b[0m 2ms/step - loss: 9245206528.0000 - mae: 62541.3828 - mape: 12.9854 - mse: 9245206528.0000\n",
            "Epoch 47/200\n",
            "\u001b[1m428/428\u001b[0m \u001b[32m━━━━━━━━━━━━━━━━━━━━\u001b[0m\u001b[37m\u001b[0m \u001b[1m1s\u001b[0m 2ms/step - loss: 9207685120.0000 - mae: 62417.1406 - mape: 12.9699 - mse: 9207685120.0000\n",
            "Epoch 48/200\n",
            "\u001b[1m428/428\u001b[0m \u001b[32m━━━━━━━━━━━━━━━━━━━━\u001b[0m\u001b[37m\u001b[0m \u001b[1m1s\u001b[0m 2ms/step - loss: 9183663104.0000 - mae: 62351.0781 - mape: 12.9514 - mse: 9183663104.0000\n",
            "Epoch 49/200\n",
            "\u001b[1m428/428\u001b[0m \u001b[32m━━━━━━━━━━━━━━━━━━━━\u001b[0m\u001b[37m\u001b[0m \u001b[1m1s\u001b[0m 2ms/step - loss: 9189750784.0000 - mae: 62300.0352 - mape: 12.9422 - mse: 9189750784.0000\n",
            "Epoch 50/200\n",
            "\u001b[1m428/428\u001b[0m \u001b[32m━━━━━━━━━━━━━━━━━━━━\u001b[0m\u001b[37m\u001b[0m \u001b[1m1s\u001b[0m 2ms/step - loss: 9145735168.0000 - mae: 62190.9492 - mape: 12.9200 - mse: 9145735168.0000\n",
            "Epoch 51/200\n",
            "\u001b[1m428/428\u001b[0m \u001b[32m━━━━━━━━━━━━━━━━━━━━\u001b[0m\u001b[37m\u001b[0m \u001b[1m1s\u001b[0m 2ms/step - loss: 9112118272.0000 - mae: 62023.1211 - mape: 12.8891 - mse: 9112118272.0000\n",
            "Epoch 52/200\n",
            "\u001b[1m428/428\u001b[0m \u001b[32m━━━━━━━━━━━━━━━━━━━━\u001b[0m\u001b[37m\u001b[0m \u001b[1m2s\u001b[0m 3ms/step - loss: 9069448192.0000 - mae: 61947.9297 - mape: 12.8809 - mse: 9069448192.0000\n",
            "Epoch 53/200\n",
            "\u001b[1m428/428\u001b[0m \u001b[32m━━━━━━━━━━━━━━━━━━━━\u001b[0m\u001b[37m\u001b[0m \u001b[1m2s\u001b[0m 2ms/step - loss: 9050554368.0000 - mae: 61890.3047 - mape: 12.8743 - mse: 9050554368.0000\n",
            "Epoch 54/200\n",
            "\u001b[1m428/428\u001b[0m \u001b[32m━━━━━━━━━━━━━━━━━━━━\u001b[0m\u001b[37m\u001b[0m \u001b[1m1s\u001b[0m 2ms/step - loss: 9020595200.0000 - mae: 61817.4688 - mape: 12.8664 - mse: 9020595200.0000\n",
            "Epoch 55/200\n",
            "\u001b[1m428/428\u001b[0m \u001b[32m━━━━━━━━━━━━━━━━━━━━\u001b[0m\u001b[37m\u001b[0m \u001b[1m1s\u001b[0m 2ms/step - loss: 8983029760.0000 - mae: 61654.5703 - mape: 12.8315 - mse: 8983029760.0000\n",
            "Epoch 56/200\n",
            "\u001b[1m428/428\u001b[0m \u001b[32m━━━━━━━━━━━━━━━━━━━━\u001b[0m\u001b[37m\u001b[0m \u001b[1m1s\u001b[0m 2ms/step - loss: 8929585152.0000 - mae: 61508.8828 - mape: 12.8012 - mse: 8929585152.0000\n",
            "Epoch 57/200\n",
            "\u001b[1m428/428\u001b[0m \u001b[32m━━━━━━━━━━━━━━━━━━━━\u001b[0m\u001b[37m\u001b[0m \u001b[1m1s\u001b[0m 2ms/step - loss: 8893950976.0000 - mae: 61390.8867 - mape: 12.7765 - mse: 8893950976.0000\n",
            "Epoch 58/200\n",
            "\u001b[1m428/428\u001b[0m \u001b[32m━━━━━━━━━━━━━━━━━━━━\u001b[0m\u001b[37m\u001b[0m \u001b[1m1s\u001b[0m 2ms/step - loss: 8850883584.0000 - mae: 61317.0234 - mape: 12.7687 - mse: 8850883584.0000\n",
            "Epoch 59/200\n",
            "\u001b[1m428/428\u001b[0m \u001b[32m━━━━━━━━━━━━━━━━━━━━\u001b[0m\u001b[37m\u001b[0m \u001b[1m1s\u001b[0m 2ms/step - loss: 8816978944.0000 - mae: 61203.7422 - mape: 12.7482 - mse: 8816978944.0000\n",
            "Epoch 60/200\n",
            "\u001b[1m428/428\u001b[0m \u001b[32m━━━━━━━━━━━━━━━━━━━━\u001b[0m\u001b[37m\u001b[0m \u001b[1m1s\u001b[0m 2ms/step - loss: 8776437760.0000 - mae: 61076.1953 - mape: 12.7313 - mse: 8776437760.0000\n",
            "Epoch 61/200\n",
            "\u001b[1m428/428\u001b[0m \u001b[32m━━━━━━━━━━━━━━━━━━━━\u001b[0m\u001b[37m\u001b[0m \u001b[1m1s\u001b[0m 2ms/step - loss: 8728520704.0000 - mae: 60989.1250 - mape: 12.7259 - mse: 8728520704.0000\n",
            "Epoch 62/200\n",
            "\u001b[1m428/428\u001b[0m \u001b[32m━━━━━━━━━━━━━━━━━━━━\u001b[0m\u001b[37m\u001b[0m \u001b[1m1s\u001b[0m 2ms/step - loss: 8694420480.0000 - mae: 60922.9492 - mape: 12.7145 - mse: 8694420480.0000\n",
            "Epoch 63/200\n",
            "\u001b[1m428/428\u001b[0m \u001b[32m━━━━━━━━━━━━━━━━━━━━\u001b[0m\u001b[37m\u001b[0m \u001b[1m2s\u001b[0m 3ms/step - loss: 8657545216.0000 - mae: 60857.8516 - mape: 12.7052 - mse: 8657545216.0000\n",
            "Epoch 64/200\n",
            "\u001b[1m428/428\u001b[0m \u001b[32m━━━━━━━━━━━━━━━━━━━━\u001b[0m\u001b[37m\u001b[0m \u001b[1m2s\u001b[0m 2ms/step - loss: 8635574272.0000 - mae: 60849.1992 - mape: 12.7086 - mse: 8635574272.0000\n",
            "Epoch 65/200\n",
            "\u001b[1m428/428\u001b[0m \u001b[32m━━━━━━━━━━━━━━━━━━━━\u001b[0m\u001b[37m\u001b[0m \u001b[1m1s\u001b[0m 2ms/step - loss: 8587865088.0000 - mae: 60681.8633 - mape: 12.6856 - mse: 8587865088.0000\n",
            "Epoch 66/200\n",
            "\u001b[1m428/428\u001b[0m \u001b[32m━━━━━━━━━━━━━━━━━━━━\u001b[0m\u001b[37m\u001b[0m \u001b[1m1s\u001b[0m 2ms/step - loss: 8554211328.0000 - mae: 60576.7227 - mape: 12.6675 - mse: 8554211328.0000\n",
            "Epoch 67/200\n",
            "\u001b[1m428/428\u001b[0m \u001b[32m━━━━━━━━━━━━━━━━━━━━\u001b[0m\u001b[37m\u001b[0m \u001b[1m1s\u001b[0m 2ms/step - loss: 8506695680.0000 - mae: 60425.3047 - mape: 12.6367 - mse: 8506695680.0000\n",
            "Epoch 68/200\n",
            "\u001b[1m428/428\u001b[0m \u001b[32m━━━━━━━━━━━━━━━━━━━━\u001b[0m\u001b[37m\u001b[0m \u001b[1m1s\u001b[0m 2ms/step - loss: 8466972160.0000 - mae: 60345.6094 - mape: 12.6195 - mse: 8466972160.0000\n",
            "Epoch 69/200\n",
            "\u001b[1m428/428\u001b[0m \u001b[32m━━━━━━━━━━━━━━━━━━━━\u001b[0m\u001b[37m\u001b[0m \u001b[1m1s\u001b[0m 2ms/step - loss: 8444580864.0000 - mae: 60282.6094 - mape: 12.6101 - mse: 8444580864.0000\n",
            "Epoch 70/200\n",
            "\u001b[1m428/428\u001b[0m \u001b[32m━━━━━━━━━━━━━━━━━━━━\u001b[0m\u001b[37m\u001b[0m \u001b[1m1s\u001b[0m 2ms/step - loss: 8394324992.0000 - mae: 60172.9766 - mape: 12.5939 - mse: 8394324992.0000\n",
            "Epoch 71/200\n",
            "\u001b[1m428/428\u001b[0m \u001b[32m━━━━━━━━━━━━━━━━━━━━\u001b[0m\u001b[37m\u001b[0m \u001b[1m1s\u001b[0m 2ms/step - loss: 8348820480.0000 - mae: 60053.4219 - mape: 12.5759 - mse: 8348820480.0000\n",
            "Epoch 72/200\n",
            "\u001b[1m428/428\u001b[0m \u001b[32m━━━━━━━━━━━━━━━━━━━━\u001b[0m\u001b[37m\u001b[0m \u001b[1m1s\u001b[0m 2ms/step - loss: 8333126144.0000 - mae: 60050.5781 - mape: 12.5841 - mse: 8333126144.0000\n",
            "Epoch 73/200\n",
            "\u001b[1m428/428\u001b[0m \u001b[32m━━━━━━━━━━━━━━━━━━━━\u001b[0m\u001b[37m\u001b[0m \u001b[1m2s\u001b[0m 3ms/step - loss: 8286660608.0000 - mae: 59901.9258 - mape: 12.5543 - mse: 8286660608.0000\n",
            "Epoch 74/200\n",
            "\u001b[1m428/428\u001b[0m \u001b[32m━━━━━━━━━━━━━━━━━━━━\u001b[0m\u001b[37m\u001b[0m \u001b[1m2s\u001b[0m 2ms/step - loss: 8249820672.0000 - mae: 59828.7734 - mape: 12.5494 - mse: 8249820672.0000\n",
            "Epoch 75/200\n",
            "\u001b[1m428/428\u001b[0m \u001b[32m━━━━━━━━━━━━━━━━━━━━\u001b[0m\u001b[37m\u001b[0m \u001b[1m1s\u001b[0m 2ms/step - loss: 8189681664.0000 - mae: 59643.9375 - mape: 12.5196 - mse: 8189681664.0000\n",
            "Epoch 76/200\n",
            "\u001b[1m428/428\u001b[0m \u001b[32m━━━━━━━━━━━━━━━━━━━━\u001b[0m\u001b[37m\u001b[0m \u001b[1m2s\u001b[0m 4ms/step - loss: 8196039680.0000 - mae: 59685.3281 - mape: 12.5253 - mse: 8196039680.0000\n",
            "Epoch 77/200\n",
            "\u001b[1m428/428\u001b[0m \u001b[32m━━━━━━━━━━━━━━━━━━━━\u001b[0m\u001b[37m\u001b[0m \u001b[1m2s\u001b[0m 2ms/step - loss: 8132167168.0000 - mae: 59476.4102 - mape: 12.4901 - mse: 8132167168.0000\n",
            "Epoch 78/200\n",
            "\u001b[1m428/428\u001b[0m \u001b[32m━━━━━━━━━━━━━━━━━━━━\u001b[0m\u001b[37m\u001b[0m \u001b[1m1s\u001b[0m 2ms/step - loss: 8125871104.0000 - mae: 59532.8984 - mape: 12.5031 - mse: 8125871104.0000\n",
            "Epoch 79/200\n",
            "\u001b[1m428/428\u001b[0m \u001b[32m━━━━━━━━━━━━━━━━━━━━\u001b[0m\u001b[37m\u001b[0m \u001b[1m1s\u001b[0m 2ms/step - loss: 8103406080.0000 - mae: 59391.9336 - mape: 12.4837 - mse: 8103406080.0000\n",
            "Epoch 80/200\n",
            "\u001b[1m428/428\u001b[0m \u001b[32m━━━━━━━━━━━━━━━━━━━━\u001b[0m\u001b[37m\u001b[0m \u001b[1m1s\u001b[0m 2ms/step - loss: 8095257600.0000 - mae: 59348.6953 - mape: 12.4722 - mse: 8095257600.0000\n",
            "Epoch 81/200\n",
            "\u001b[1m428/428\u001b[0m \u001b[32m━━━━━━━━━━━━━━━━━━━━\u001b[0m\u001b[37m\u001b[0m \u001b[1m2s\u001b[0m 3ms/step - loss: 8051744768.0000 - mae: 59189.3555 - mape: 12.4431 - mse: 8051744768.0000\n",
            "Epoch 82/200\n",
            "\u001b[1m428/428\u001b[0m \u001b[32m━━━━━━━━━━━━━━━━━━━━\u001b[0m\u001b[37m\u001b[0m \u001b[1m2s\u001b[0m 3ms/step - loss: 8046438912.0000 - mae: 59184.2148 - mape: 12.4426 - mse: 8046438912.0000\n",
            "Epoch 83/200\n",
            "\u001b[1m428/428\u001b[0m \u001b[32m━━━━━━━━━━━━━━━━━━━━\u001b[0m\u001b[37m\u001b[0m \u001b[1m2s\u001b[0m 2ms/step - loss: 8020595200.0000 - mae: 59027.1719 - mape: 12.4127 - mse: 8020595200.0000\n",
            "Epoch 84/200\n",
            "\u001b[1m428/428\u001b[0m \u001b[32m━━━━━━━━━━━━━━━━━━━━\u001b[0m\u001b[37m\u001b[0m \u001b[1m1s\u001b[0m 2ms/step - loss: 7996220928.0000 - mae: 58966.0000 - mape: 12.3996 - mse: 7996220928.0000\n",
            "Epoch 85/200\n",
            "\u001b[1m428/428\u001b[0m \u001b[32m━━━━━━━━━━━━━━━━━━━━\u001b[0m\u001b[37m\u001b[0m \u001b[1m1s\u001b[0m 2ms/step - loss: 7981380096.0000 - mae: 58910.4336 - mape: 12.3924 - mse: 7981380096.0000\n",
            "Epoch 86/200\n",
            "\u001b[1m428/428\u001b[0m \u001b[32m━━━━━━━━━━━━━━━━━━━━\u001b[0m\u001b[37m\u001b[0m \u001b[1m1s\u001b[0m 2ms/step - loss: 7970980864.0000 - mae: 58877.7148 - mape: 12.3831 - mse: 7970980864.0000\n",
            "Epoch 87/200\n",
            "\u001b[1m428/428\u001b[0m \u001b[32m━━━━━━━━━━━━━━━━━━━━\u001b[0m\u001b[37m\u001b[0m \u001b[1m1s\u001b[0m 2ms/step - loss: 7932915200.0000 - mae: 58732.7812 - mape: 12.3519 - mse: 7932915200.0000\n",
            "Epoch 88/200\n",
            "\u001b[1m428/428\u001b[0m \u001b[32m━━━━━━━━━━━━━━━━━━━━\u001b[0m\u001b[37m\u001b[0m \u001b[1m1s\u001b[0m 2ms/step - loss: 7921842176.0000 - mae: 58735.2578 - mape: 12.3517 - mse: 7921842176.0000\n",
            "Epoch 89/200\n",
            "\u001b[1m428/428\u001b[0m \u001b[32m━━━━━━━━━━━━━━━━━━━━\u001b[0m\u001b[37m\u001b[0m \u001b[1m1s\u001b[0m 2ms/step - loss: 7905556480.0000 - mae: 58676.0820 - mape: 12.3479 - mse: 7905556480.0000\n",
            "Epoch 90/200\n",
            "\u001b[1m428/428\u001b[0m \u001b[32m━━━━━━━━━━━━━━━━━━━━\u001b[0m\u001b[37m\u001b[0m \u001b[1m1s\u001b[0m 2ms/step - loss: 7899327488.0000 - mae: 58650.9453 - mape: 12.3402 - mse: 7899327488.0000\n",
            "Epoch 91/200\n",
            "\u001b[1m428/428\u001b[0m \u001b[32m━━━━━━━━━━━━━━━━━━━━\u001b[0m\u001b[37m\u001b[0m \u001b[1m1s\u001b[0m 3ms/step - loss: 7862212096.0000 - mae: 58558.9961 - mape: 12.3205 - mse: 7862212096.0000\n",
            "Epoch 92/200\n",
            "\u001b[1m428/428\u001b[0m \u001b[32m━━━━━━━━━━━━━━━━━━━━\u001b[0m\u001b[37m\u001b[0m \u001b[1m1s\u001b[0m 3ms/step - loss: 7864205312.0000 - mae: 58574.6680 - mape: 12.3309 - mse: 7864205312.0000\n",
            "Epoch 93/200\n",
            "\u001b[1m428/428\u001b[0m \u001b[32m━━━━━━━━━━━━━━━━━━━━\u001b[0m\u001b[37m\u001b[0m \u001b[1m2s\u001b[0m 2ms/step - loss: 7857062912.0000 - mae: 58553.8359 - mape: 12.3229 - mse: 7857062912.0000\n",
            "Epoch 94/200\n",
            "\u001b[1m428/428\u001b[0m \u001b[32m━━━━━━━━━━━━━━━━━━━━\u001b[0m\u001b[37m\u001b[0m \u001b[1m1s\u001b[0m 2ms/step - loss: 7874312192.0000 - mae: 58621.4141 - mape: 12.3299 - mse: 7874312192.0000\n",
            "Epoch 95/200\n",
            "\u001b[1m428/428\u001b[0m \u001b[32m━━━━━━━━━━━━━━━━━━━━\u001b[0m\u001b[37m\u001b[0m \u001b[1m1s\u001b[0m 2ms/step - loss: 7848146432.0000 - mae: 58500.3867 - mape: 12.3127 - mse: 7848146432.0000\n",
            "Epoch 96/200\n",
            "\u001b[1m428/428\u001b[0m \u001b[32m━━━━━━━━━━━━━━━━━━━━\u001b[0m\u001b[37m\u001b[0m \u001b[1m1s\u001b[0m 2ms/step - loss: 7836981248.0000 - mae: 58534.9258 - mape: 12.3214 - mse: 7836981248.0000\n",
            "Epoch 97/200\n",
            "\u001b[1m428/428\u001b[0m \u001b[32m━━━━━━━━━━━━━━━━━━━━\u001b[0m\u001b[37m\u001b[0m \u001b[1m1s\u001b[0m 2ms/step - loss: 7818676736.0000 - mae: 58422.6523 - mape: 12.2970 - mse: 7818676736.0000\n",
            "Epoch 98/200\n",
            "\u001b[1m428/428\u001b[0m \u001b[32m━━━━━━━━━━━━━━━━━━━━\u001b[0m\u001b[37m\u001b[0m \u001b[1m1s\u001b[0m 2ms/step - loss: 7792733184.0000 - mae: 58341.6289 - mape: 12.2831 - mse: 7792733184.0000\n",
            "Epoch 99/200\n",
            "\u001b[1m428/428\u001b[0m \u001b[32m━━━━━━━━━━━━━━━━━━━━\u001b[0m\u001b[37m\u001b[0m \u001b[1m1s\u001b[0m 2ms/step - loss: 7793397760.0000 - mae: 58307.9922 - mape: 12.2716 - mse: 7793397760.0000\n",
            "Epoch 100/200\n",
            "\u001b[1m428/428\u001b[0m \u001b[32m━━━━━━━━━━━━━━━━━━━━\u001b[0m\u001b[37m\u001b[0m \u001b[1m1s\u001b[0m 2ms/step - loss: 7781588992.0000 - mae: 58331.0430 - mape: 12.2811 - mse: 7781588992.0000\n",
            "Epoch 101/200\n",
            "\u001b[1m428/428\u001b[0m \u001b[32m━━━━━━━━━━━━━━━━━━━━\u001b[0m\u001b[37m\u001b[0m \u001b[1m1s\u001b[0m 2ms/step - loss: 7754245120.0000 - mae: 58256.5312 - mape: 12.2672 - mse: 7754245120.0000\n",
            "Epoch 102/200\n",
            "\u001b[1m428/428\u001b[0m \u001b[32m━━━━━━━━━━━━━━━━━━━━\u001b[0m\u001b[37m\u001b[0m \u001b[1m2s\u001b[0m 3ms/step - loss: 7789411840.0000 - mae: 58333.4609 - mape: 12.2759 - mse: 7789411840.0000\n",
            "Epoch 103/200\n",
            "\u001b[1m428/428\u001b[0m \u001b[32m━━━━━━━━━━━━━━━━━━━━\u001b[0m\u001b[37m\u001b[0m \u001b[1m2s\u001b[0m 2ms/step - loss: 7738712064.0000 - mae: 58191.1758 - mape: 12.2494 - mse: 7738712064.0000\n",
            "Epoch 104/200\n",
            "\u001b[1m428/428\u001b[0m \u001b[32m━━━━━━━━━━━━━━━━━━━━\u001b[0m\u001b[37m\u001b[0m \u001b[1m1s\u001b[0m 2ms/step - loss: 7725236224.0000 - mae: 58147.6445 - mape: 12.2480 - mse: 7725236224.0000\n",
            "Epoch 105/200\n",
            "\u001b[1m428/428\u001b[0m \u001b[32m━━━━━━━━━━━━━━━━━━━━\u001b[0m\u001b[37m\u001b[0m \u001b[1m1s\u001b[0m 2ms/step - loss: 7715723776.0000 - mae: 58157.7617 - mape: 12.2470 - mse: 7715723776.0000\n",
            "Epoch 106/200\n",
            "\u001b[1m428/428\u001b[0m \u001b[32m━━━━━━━━━━━━━━━━━━━━\u001b[0m\u001b[37m\u001b[0m \u001b[1m1s\u001b[0m 2ms/step - loss: 7719877120.0000 - mae: 58139.0156 - mape: 12.2448 - mse: 7719877120.0000\n",
            "Epoch 107/200\n",
            "\u001b[1m428/428\u001b[0m \u001b[32m━━━━━━━━━━━━━━━━━━━━\u001b[0m\u001b[37m\u001b[0m \u001b[1m1s\u001b[0m 2ms/step - loss: 7692871680.0000 - mae: 58101.2109 - mape: 12.2366 - mse: 7692871680.0000\n",
            "Epoch 108/200\n",
            "\u001b[1m428/428\u001b[0m \u001b[32m━━━━━━━━━━━━━━━━━━━━\u001b[0m\u001b[37m\u001b[0m \u001b[1m1s\u001b[0m 2ms/step - loss: 7707401216.0000 - mae: 58155.7031 - mape: 12.2495 - mse: 7707401216.0000\n",
            "Epoch 109/200\n",
            "\u001b[1m428/428\u001b[0m \u001b[32m━━━━━━━━━━━━━━━━━━━━\u001b[0m\u001b[37m\u001b[0m \u001b[1m1s\u001b[0m 2ms/step - loss: 7648052736.0000 - mae: 57972.8242 - mape: 12.2206 - mse: 7648052736.0000\n",
            "Epoch 110/200\n",
            "\u001b[1m428/428\u001b[0m \u001b[32m━━━━━━━━━━━━━━━━━━━━\u001b[0m\u001b[37m\u001b[0m \u001b[1m1s\u001b[0m 2ms/step - loss: 7641878016.0000 - mae: 57944.6680 - mape: 12.2215 - mse: 7641878016.0000\n",
            "Epoch 111/200\n",
            "\u001b[1m428/428\u001b[0m \u001b[32m━━━━━━━━━━━━━━━━━━━━\u001b[0m\u001b[37m\u001b[0m \u001b[1m2s\u001b[0m 3ms/step - loss: 7651837440.0000 - mae: 57973.5352 - mape: 12.2158 - mse: 7651837440.0000\n",
            "Epoch 112/200\n",
            "\u001b[1m428/428\u001b[0m \u001b[32m━━━━━━━━━━━━━━━━━━━━\u001b[0m\u001b[37m\u001b[0m \u001b[1m2s\u001b[0m 2ms/step - loss: 7619448832.0000 - mae: 57845.9453 - mape: 12.2035 - mse: 7619448832.0000\n",
            "Epoch 113/200\n",
            "\u001b[1m428/428\u001b[0m \u001b[32m━━━━━━━━━━━━━━━━━━━━\u001b[0m\u001b[37m\u001b[0m \u001b[1m1s\u001b[0m 2ms/step - loss: 7617647104.0000 - mae: 57861.6953 - mape: 12.2016 - mse: 7617647104.0000\n",
            "Epoch 114/200\n",
            "\u001b[1m428/428\u001b[0m \u001b[32m━━━━━━━━━━━━━━━━━━━━\u001b[0m\u001b[37m\u001b[0m \u001b[1m1s\u001b[0m 2ms/step - loss: 7633763840.0000 - mae: 57929.6406 - mape: 12.2170 - mse: 7633763840.0000\n",
            "Epoch 115/200\n",
            "\u001b[1m428/428\u001b[0m \u001b[32m━━━━━━━━━━━━━━━━━━━━\u001b[0m\u001b[37m\u001b[0m \u001b[1m1s\u001b[0m 2ms/step - loss: 7614614528.0000 - mae: 57822.7070 - mape: 12.1977 - mse: 7614614528.0000\n",
            "Epoch 116/200\n",
            "\u001b[1m428/428\u001b[0m \u001b[32m━━━━━━━━━━━━━━━━━━━━\u001b[0m\u001b[37m\u001b[0m \u001b[1m1s\u001b[0m 2ms/step - loss: 7586306048.0000 - mae: 57741.4180 - mape: 12.1902 - mse: 7586306048.0000\n",
            "Epoch 117/200\n",
            "\u001b[1m428/428\u001b[0m \u001b[32m━━━━━━━━━━━━━━━━━━━━\u001b[0m\u001b[37m\u001b[0m \u001b[1m1s\u001b[0m 2ms/step - loss: 7566829056.0000 - mae: 57692.7617 - mape: 12.1825 - mse: 7566829056.0000\n",
            "Epoch 118/200\n",
            "\u001b[1m428/428\u001b[0m \u001b[32m━━━━━━━━━━━━━━━━━━━━\u001b[0m\u001b[37m\u001b[0m \u001b[1m1s\u001b[0m 2ms/step - loss: 7575464960.0000 - mae: 57713.0391 - mape: 12.1940 - mse: 7575464960.0000\n",
            "Epoch 119/200\n",
            "\u001b[1m428/428\u001b[0m \u001b[32m━━━━━━━━━━━━━━━━━━━━\u001b[0m\u001b[37m\u001b[0m \u001b[1m1s\u001b[0m 2ms/step - loss: 7553119232.0000 - mae: 57647.4766 - mape: 12.1752 - mse: 7553119232.0000\n",
            "Epoch 120/200\n",
            "\u001b[1m428/428\u001b[0m \u001b[32m━━━━━━━━━━━━━━━━━━━━\u001b[0m\u001b[37m\u001b[0m \u001b[1m1s\u001b[0m 2ms/step - loss: 7554902528.0000 - mae: 57693.6445 - mape: 12.1865 - mse: 7554902528.0000\n",
            "Epoch 121/200\n",
            "\u001b[1m428/428\u001b[0m \u001b[32m━━━━━━━━━━━━━━━━━━━━\u001b[0m\u001b[37m\u001b[0m \u001b[1m1s\u001b[0m 3ms/step - loss: 7521312768.0000 - mae: 57618.1133 - mape: 12.1711 - mse: 7521312768.0000\n",
            "Epoch 122/200\n",
            "\u001b[1m428/428\u001b[0m \u001b[32m━━━━━━━━━━━━━━━━━━━━\u001b[0m\u001b[37m\u001b[0m \u001b[1m2s\u001b[0m 4ms/step - loss: 7555618304.0000 - mae: 57660.4219 - mape: 12.1796 - mse: 7555618304.0000\n",
            "Epoch 123/200\n",
            "\u001b[1m428/428\u001b[0m \u001b[32m━━━━━━━━━━━━━━━━━━━━\u001b[0m\u001b[37m\u001b[0m \u001b[1m2s\u001b[0m 2ms/step - loss: 7529590272.0000 - mae: 57647.0156 - mape: 12.1803 - mse: 7529590272.0000\n",
            "Epoch 124/200\n",
            "\u001b[1m428/428\u001b[0m \u001b[32m━━━━━━━━━━━━━━━━━━━━\u001b[0m\u001b[37m\u001b[0m \u001b[1m1s\u001b[0m 2ms/step - loss: 7523012096.0000 - mae: 57543.2383 - mape: 12.1651 - mse: 7523012096.0000\n",
            "Epoch 125/200\n",
            "\u001b[1m428/428\u001b[0m \u001b[32m━━━━━━━━━━━━━━━━━━━━\u001b[0m\u001b[37m\u001b[0m \u001b[1m1s\u001b[0m 2ms/step - loss: 7509618176.0000 - mae: 57567.6641 - mape: 12.1645 - mse: 7509618176.0000\n",
            "Epoch 126/200\n",
            "\u001b[1m428/428\u001b[0m \u001b[32m━━━━━━━━━━━━━━━━━━━━\u001b[0m\u001b[37m\u001b[0m \u001b[1m1s\u001b[0m 2ms/step - loss: 7475888640.0000 - mae: 57537.1133 - mape: 12.1668 - mse: 7475888640.0000\n",
            "Epoch 127/200\n",
            "\u001b[1m428/428\u001b[0m \u001b[32m━━━━━━━━━━━━━━━━━━━━\u001b[0m\u001b[37m\u001b[0m \u001b[1m1s\u001b[0m 2ms/step - loss: 7503537152.0000 - mae: 57548.4766 - mape: 12.1670 - mse: 7503537152.0000\n",
            "Epoch 128/200\n",
            "\u001b[1m428/428\u001b[0m \u001b[32m━━━━━━━━━━━━━━━━━━━━\u001b[0m\u001b[37m\u001b[0m \u001b[1m1s\u001b[0m 2ms/step - loss: 7476926464.0000 - mae: 57538.6797 - mape: 12.1660 - mse: 7476926464.0000\n",
            "Epoch 129/200\n",
            "\u001b[1m428/428\u001b[0m \u001b[32m━━━━━━━━━━━━━━━━━━━━\u001b[0m\u001b[37m\u001b[0m \u001b[1m1s\u001b[0m 2ms/step - loss: 7458012160.0000 - mae: 57498.6406 - mape: 12.1632 - mse: 7458012160.0000\n",
            "Epoch 130/200\n",
            "\u001b[1m428/428\u001b[0m \u001b[32m━━━━━━━━━━━━━━━━━━━━\u001b[0m\u001b[37m\u001b[0m \u001b[1m1s\u001b[0m 2ms/step - loss: 7476654592.0000 - mae: 57534.6250 - mape: 12.1662 - mse: 7476654592.0000\n",
            "Epoch 131/200\n",
            "\u001b[1m428/428\u001b[0m \u001b[32m━━━━━━━━━━━━━━━━━━━━\u001b[0m\u001b[37m\u001b[0m \u001b[1m1s\u001b[0m 2ms/step - loss: 7444160000.0000 - mae: 57419.2695 - mape: 12.1508 - mse: 7444160000.0000\n",
            "Epoch 132/200\n",
            "\u001b[1m428/428\u001b[0m \u001b[32m━━━━━━━━━━━━━━━━━━━━\u001b[0m\u001b[37m\u001b[0m \u001b[1m1s\u001b[0m 3ms/step - loss: 7420318720.0000 - mae: 57351.3516 - mape: 12.1469 - mse: 7420318720.0000\n",
            "Epoch 133/200\n",
            "\u001b[1m428/428\u001b[0m \u001b[32m━━━━━━━━━━━━━━━━━━━━\u001b[0m\u001b[37m\u001b[0m \u001b[1m2s\u001b[0m 3ms/step - loss: 7416982528.0000 - mae: 57311.3203 - mape: 12.1354 - mse: 7416982528.0000\n",
            "Epoch 134/200\n",
            "\u001b[1m428/428\u001b[0m \u001b[32m━━━━━━━━━━━━━━━━━━━━\u001b[0m\u001b[37m\u001b[0m \u001b[1m1s\u001b[0m 2ms/step - loss: 7416753152.0000 - mae: 57332.5391 - mape: 12.1435 - mse: 7416753152.0000\n",
            "Epoch 135/200\n",
            "\u001b[1m428/428\u001b[0m \u001b[32m━━━━━━━━━━━━━━━━━━━━\u001b[0m\u001b[37m\u001b[0m \u001b[1m1s\u001b[0m 2ms/step - loss: 7407136256.0000 - mae: 57344.8047 - mape: 12.1397 - mse: 7407136256.0000\n",
            "Epoch 136/200\n",
            "\u001b[1m428/428\u001b[0m \u001b[32m━━━━━━━━━━━━━━━━━━━━\u001b[0m\u001b[37m\u001b[0m \u001b[1m1s\u001b[0m 2ms/step - loss: 7389338624.0000 - mae: 57313.0391 - mape: 12.1417 - mse: 7389338624.0000\n",
            "Epoch 137/200\n",
            "\u001b[1m428/428\u001b[0m \u001b[32m━━━━━━━━━━━━━━━━━━━━\u001b[0m\u001b[37m\u001b[0m \u001b[1m1s\u001b[0m 2ms/step - loss: 7374322688.0000 - mae: 57262.0469 - mape: 12.1328 - mse: 7374322688.0000\n",
            "Epoch 138/200\n",
            "\u001b[1m428/428\u001b[0m \u001b[32m━━━━━━━━━━━━━━━━━━━━\u001b[0m\u001b[37m\u001b[0m \u001b[1m1s\u001b[0m 2ms/step - loss: 7357408768.0000 - mae: 57277.2578 - mape: 12.1334 - mse: 7357408768.0000\n",
            "Epoch 139/200\n",
            "\u001b[1m428/428\u001b[0m \u001b[32m━━━━━━━━━━━━━━━━━━━━\u001b[0m\u001b[37m\u001b[0m \u001b[1m1s\u001b[0m 2ms/step - loss: 7357920256.0000 - mae: 57186.0156 - mape: 12.1170 - mse: 7357920256.0000\n",
            "Epoch 140/200\n",
            "\u001b[1m428/428\u001b[0m \u001b[32m━━━━━━━━━━━━━━━━━━━━\u001b[0m\u001b[37m\u001b[0m \u001b[1m1s\u001b[0m 2ms/step - loss: 7352721408.0000 - mae: 57193.3867 - mape: 12.1163 - mse: 7352721408.0000\n",
            "Epoch 141/200\n",
            "\u001b[1m428/428\u001b[0m \u001b[32m━━━━━━━━━━━━━━━━━━━━\u001b[0m\u001b[37m\u001b[0m \u001b[1m1s\u001b[0m 2ms/step - loss: 7342047232.0000 - mae: 57184.5195 - mape: 12.1141 - mse: 7342047232.0000\n",
            "Epoch 142/200\n",
            "\u001b[1m428/428\u001b[0m \u001b[32m━━━━━━━━━━━━━━━━━━━━\u001b[0m\u001b[37m\u001b[0m \u001b[1m1s\u001b[0m 3ms/step - loss: 7342473216.0000 - mae: 57221.3555 - mape: 12.1190 - mse: 7342473216.0000\n",
            "Epoch 143/200\n",
            "\u001b[1m428/428\u001b[0m \u001b[32m━━━━━━━━━━━━━━━━━━━━\u001b[0m\u001b[37m\u001b[0m \u001b[1m1s\u001b[0m 3ms/step - loss: 7337099264.0000 - mae: 57162.4961 - mape: 12.1075 - mse: 7337099264.0000\n",
            "Epoch 144/200\n",
            "\u001b[1m428/428\u001b[0m \u001b[32m━━━━━━━━━━━━━━━━━━━━\u001b[0m\u001b[37m\u001b[0m \u001b[1m2s\u001b[0m 2ms/step - loss: 7314650112.0000 - mae: 57093.9180 - mape: 12.0939 - mse: 7314650112.0000\n",
            "Epoch 145/200\n",
            "\u001b[1m428/428\u001b[0m \u001b[32m━━━━━━━━━━━━━━━━━━━━\u001b[0m\u001b[37m\u001b[0m \u001b[1m1s\u001b[0m 2ms/step - loss: 7318299136.0000 - mae: 57135.4531 - mape: 12.1018 - mse: 7318299136.0000\n",
            "Epoch 146/200\n",
            "\u001b[1m428/428\u001b[0m \u001b[32m━━━━━━━━━━━━━━━━━━━━\u001b[0m\u001b[37m\u001b[0m \u001b[1m1s\u001b[0m 2ms/step - loss: 7347019264.0000 - mae: 57147.1289 - mape: 12.0963 - mse: 7347019264.0000\n",
            "Epoch 147/200\n",
            "\u001b[1m428/428\u001b[0m \u001b[32m━━━━━━━━━━━━━━━━━━━━\u001b[0m\u001b[37m\u001b[0m \u001b[1m1s\u001b[0m 2ms/step - loss: 7325355008.0000 - mae: 57142.4141 - mape: 12.0999 - mse: 7325355008.0000\n"
          ]
        }
      ],
      "source": [
        "# Build a neural network model to fit on our normalized data\n",
        "tf.random.set_seed(27)\n",
        "\n",
        "initializer = tf.keras.initializers.glorot_uniform(seed=27)\n",
        "\n",
        "callback = tf.keras.callbacks.EarlyStopping(monitor='loss',\n",
        "                                              patience=3) # To stop the model if it's no improvement for 3 consecutives epochs\n",
        "\n",
        "model_1 = tf.keras.Sequential()\n",
        "model_1.add(tf.keras.layers.Input(shape=(X_train_standard.shape[1],)))\n",
        "model_1.add(tf.keras.layers.Dense(100,kernel_initializer=initializer,activation = \"relu\"))\n",
        "model_1.add(tf.keras.layers.Dense(64,kernel_initializer=initializer,activation = \"relu\"))\n",
        "#model_1.add(tf.keras.layers.Dense(4,kernel_initializer=initializer,activation = \"relu\"))\n",
        "model_1.add(tf.keras.layers.Dense(1,kernel_initializer=initializer))\n",
        "\n",
        "model_1.compile(loss = \"mse\",\n",
        "                optimizer = tf.keras.optimizers.Adam(learning_rate=0.1),\n",
        "                metrics = [\"mse\", \"mae\", \"mape\"])\n",
        "\n",
        "history = model_1.fit(X_train_standard, y_train, epochs = 200, callbacks = [callback])"
      ]
    },
    {
      "cell_type": "markdown",
      "metadata": {
        "id": "wiEI-jyBZm0C"
      },
      "source": [
        "### Model Evaluation"
      ]
    },
    {
      "cell_type": "code",
      "execution_count": 92,
      "metadata": {
        "colab": {
          "base_uri": "https://localhost:8080/"
        },
        "id": "nD5f6nfgZsYp",
        "outputId": "f06c9fa4-44d5-4b3a-e233-10717fb72cd0"
      },
      "outputs": [
        {
          "output_type": "stream",
          "name": "stdout",
          "text": [
            "\u001b[1m107/107\u001b[0m \u001b[32m━━━━━━━━━━━━━━━━━━━━\u001b[0m\u001b[37m\u001b[0m \u001b[1m0s\u001b[0m 2ms/step - loss: 10222976000.0000 - mae: 62313.7539 - mape: 12.5551 - mse: 10222976000.0000\n",
            "57478 86240\n",
            "63404 105009\n",
            "62219 101255\n",
            "12.252913475036621\n"
          ]
        }
      ],
      "source": [
        "test_evaluation = model_1.evaluate(X_test_standard, y_test)\n",
        "mae_train = history.history['mae'][-1]\n",
        "mae_test = test_evaluation[2]\n",
        "\n",
        "mse_train = history.history['mse'][-1] ** 0.5\n",
        "mse_test = test_evaluation[1] ** 0.5\n",
        "\n",
        "mae_average = (0.2 * mae_train + 0.8 * mae_test)\n",
        "mse_average = (0.2 * mse_train + 0.8 * mse_test)\n",
        "\n",
        "print(round(mae_train), round(mse_train))\n",
        "print(round(mae_test), round(mse_test))\n",
        "print(round(mae_average), round(mse_average))\n",
        "print(history.history['mape'][-1])\n",
        "\n",
        "\"\"\"\n",
        "57953 85203\n",
        "64718 116125\n",
        "63365 109941\n",
        "12.439774513244629\n",
        "\"\"\" ;"
      ]
    },
    {
      "cell_type": "code",
      "execution_count": 93,
      "metadata": {
        "colab": {
          "base_uri": "https://localhost:8080/",
          "height": 250
        },
        "id": "ETPHtl7LazxN",
        "outputId": "85678a5c-f314-448a-9711-83316637d24e"
      },
      "outputs": [
        {
          "output_type": "display_data",
          "data": {
            "text/plain": [
              "\u001b[1mModel: \"sequential_9\"\u001b[0m\n"
            ],
            "text/html": [
              "<pre style=\"white-space:pre;overflow-x:auto;line-height:normal;font-family:Menlo,'DejaVu Sans Mono',consolas,'Courier New',monospace\"><span style=\"font-weight: bold\">Model: \"sequential_9\"</span>\n",
              "</pre>\n"
            ]
          },
          "metadata": {}
        },
        {
          "output_type": "display_data",
          "data": {
            "text/plain": [
              "┏━━━━━━━━━━━━━━━━━━━━━━━━━━━━━━━━━━━━━━┳━━━━━━━━━━━━━━━━━━━━━━━━━━━━━┳━━━━━━━━━━━━━━━━━┓\n",
              "┃\u001b[1m \u001b[0m\u001b[1mLayer (type)                        \u001b[0m\u001b[1m \u001b[0m┃\u001b[1m \u001b[0m\u001b[1mOutput Shape               \u001b[0m\u001b[1m \u001b[0m┃\u001b[1m \u001b[0m\u001b[1m        Param #\u001b[0m\u001b[1m \u001b[0m┃\n",
              "┡━━━━━━━━━━━━━━━━━━━━━━━━━━━━━━━━━━━━━━╇━━━━━━━━━━━━━━━━━━━━━━━━━━━━━╇━━━━━━━━━━━━━━━━━┩\n",
              "│ dense_33 (\u001b[38;5;33mDense\u001b[0m)                     │ (\u001b[38;5;45mNone\u001b[0m, \u001b[38;5;34m100\u001b[0m)                 │           \u001b[38;5;34m8,800\u001b[0m │\n",
              "├──────────────────────────────────────┼─────────────────────────────┼─────────────────┤\n",
              "│ dense_34 (\u001b[38;5;33mDense\u001b[0m)                     │ (\u001b[38;5;45mNone\u001b[0m, \u001b[38;5;34m64\u001b[0m)                  │           \u001b[38;5;34m6,464\u001b[0m │\n",
              "├──────────────────────────────────────┼─────────────────────────────┼─────────────────┤\n",
              "│ dense_35 (\u001b[38;5;33mDense\u001b[0m)                     │ (\u001b[38;5;45mNone\u001b[0m, \u001b[38;5;34m1\u001b[0m)                   │              \u001b[38;5;34m65\u001b[0m │\n",
              "└──────────────────────────────────────┴─────────────────────────────┴─────────────────┘\n"
            ],
            "text/html": [
              "<pre style=\"white-space:pre;overflow-x:auto;line-height:normal;font-family:Menlo,'DejaVu Sans Mono',consolas,'Courier New',monospace\">┏━━━━━━━━━━━━━━━━━━━━━━━━━━━━━━━━━━━━━━┳━━━━━━━━━━━━━━━━━━━━━━━━━━━━━┳━━━━━━━━━━━━━━━━━┓\n",
              "┃<span style=\"font-weight: bold\"> Layer (type)                         </span>┃<span style=\"font-weight: bold\"> Output Shape                </span>┃<span style=\"font-weight: bold\">         Param # </span>┃\n",
              "┡━━━━━━━━━━━━━━━━━━━━━━━━━━━━━━━━━━━━━━╇━━━━━━━━━━━━━━━━━━━━━━━━━━━━━╇━━━━━━━━━━━━━━━━━┩\n",
              "│ dense_33 (<span style=\"color: #0087ff; text-decoration-color: #0087ff\">Dense</span>)                     │ (<span style=\"color: #00d7ff; text-decoration-color: #00d7ff\">None</span>, <span style=\"color: #00af00; text-decoration-color: #00af00\">100</span>)                 │           <span style=\"color: #00af00; text-decoration-color: #00af00\">8,800</span> │\n",
              "├──────────────────────────────────────┼─────────────────────────────┼─────────────────┤\n",
              "│ dense_34 (<span style=\"color: #0087ff; text-decoration-color: #0087ff\">Dense</span>)                     │ (<span style=\"color: #00d7ff; text-decoration-color: #00d7ff\">None</span>, <span style=\"color: #00af00; text-decoration-color: #00af00\">64</span>)                  │           <span style=\"color: #00af00; text-decoration-color: #00af00\">6,464</span> │\n",
              "├──────────────────────────────────────┼─────────────────────────────┼─────────────────┤\n",
              "│ dense_35 (<span style=\"color: #0087ff; text-decoration-color: #0087ff\">Dense</span>)                     │ (<span style=\"color: #00d7ff; text-decoration-color: #00d7ff\">None</span>, <span style=\"color: #00af00; text-decoration-color: #00af00\">1</span>)                   │              <span style=\"color: #00af00; text-decoration-color: #00af00\">65</span> │\n",
              "└──────────────────────────────────────┴─────────────────────────────┴─────────────────┘\n",
              "</pre>\n"
            ]
          },
          "metadata": {}
        },
        {
          "output_type": "display_data",
          "data": {
            "text/plain": [
              "\u001b[1m Total params: \u001b[0m\u001b[38;5;34m45,989\u001b[0m (179.65 KB)\n"
            ],
            "text/html": [
              "<pre style=\"white-space:pre;overflow-x:auto;line-height:normal;font-family:Menlo,'DejaVu Sans Mono',consolas,'Courier New',monospace\"><span style=\"font-weight: bold\"> Total params: </span><span style=\"color: #00af00; text-decoration-color: #00af00\">45,989</span> (179.65 KB)\n",
              "</pre>\n"
            ]
          },
          "metadata": {}
        },
        {
          "output_type": "display_data",
          "data": {
            "text/plain": [
              "\u001b[1m Trainable params: \u001b[0m\u001b[38;5;34m15,329\u001b[0m (59.88 KB)\n"
            ],
            "text/html": [
              "<pre style=\"white-space:pre;overflow-x:auto;line-height:normal;font-family:Menlo,'DejaVu Sans Mono',consolas,'Courier New',monospace\"><span style=\"font-weight: bold\"> Trainable params: </span><span style=\"color: #00af00; text-decoration-color: #00af00\">15,329</span> (59.88 KB)\n",
              "</pre>\n"
            ]
          },
          "metadata": {}
        },
        {
          "output_type": "display_data",
          "data": {
            "text/plain": [
              "\u001b[1m Non-trainable params: \u001b[0m\u001b[38;5;34m0\u001b[0m (0.00 B)\n"
            ],
            "text/html": [
              "<pre style=\"white-space:pre;overflow-x:auto;line-height:normal;font-family:Menlo,'DejaVu Sans Mono',consolas,'Courier New',monospace\"><span style=\"font-weight: bold\"> Non-trainable params: </span><span style=\"color: #00af00; text-decoration-color: #00af00\">0</span> (0.00 B)\n",
              "</pre>\n"
            ]
          },
          "metadata": {}
        },
        {
          "output_type": "display_data",
          "data": {
            "text/plain": [
              "\u001b[1m Optimizer params: \u001b[0m\u001b[38;5;34m30,660\u001b[0m (119.77 KB)\n"
            ],
            "text/html": [
              "<pre style=\"white-space:pre;overflow-x:auto;line-height:normal;font-family:Menlo,'DejaVu Sans Mono',consolas,'Courier New',monospace\"><span style=\"font-weight: bold\"> Optimizer params: </span><span style=\"color: #00af00; text-decoration-color: #00af00\">30,660</span> (119.77 KB)\n",
              "</pre>\n"
            ]
          },
          "metadata": {}
        }
      ],
      "source": [
        "model_1.summary() # To see the architecture of the best model (Only refresh when you obtain a better model)"
      ]
    },
    {
      "cell_type": "code",
      "execution_count": 94,
      "metadata": {
        "colab": {
          "base_uri": "https://localhost:8080/",
          "height": 500
        },
        "id": "WF-jFA-eUJ6i",
        "outputId": "ea2bcf81-d931-4cbc-abe5-a14eb363ac9a"
      },
      "outputs": [
        {
          "output_type": "stream",
          "name": "stdout",
          "text": [
            "dict_keys(['loss', 'mae', 'mape', 'mse'])\n"
          ]
        },
        {
          "output_type": "execute_result",
          "data": {
            "text/plain": [
              "Text(0.5, 0, 'epochs')"
            ]
          },
          "metadata": {},
          "execution_count": 94
        },
        {
          "output_type": "display_data",
          "data": {
            "text/plain": [
              "<Figure size 640x480 with 1 Axes>"
            ],
            "image/png": "[encoded data removed]"
          },
          "metadata": {}
        }
      ],
      "source": [
        "# Plot history (also known as loss curve or a training curve)\n",
        "\n",
        "print(history.history.keys())\n",
        "\n",
        "pd.DataFrame(history.history['loss']).plot()\n",
        "plt.ylabel(\"loss\")\n",
        "plt.xlabel(\"epochs\")"
      ]
    },
    {
      "cell_type": "code",
      "execution_count": 95,
      "metadata": {
        "colab": {
          "base_uri": "https://localhost:8080/"
        },
        "id": "Ug0Rceg2n0h0",
        "outputId": "ceab8131-888e-4f01-be66-67f3b7e2cfe1"
      },
      "outputs": [
        {
          "output_type": "stream",
          "name": "stdout",
          "text": [
            "\u001b[1m107/107\u001b[0m \u001b[32m━━━━━━━━━━━━━━━━━━━━\u001b[0m\u001b[37m\u001b[0m \u001b[1m0s\u001b[0m 2ms/step\n"
          ]
        }
      ],
      "source": [
        "y_pred = model_1.predict(X_test_standard)"
      ]
    },
    {
      "cell_type": "code",
      "execution_count": 96,
      "metadata": {
        "colab": {
          "base_uri": "https://localhost:8080/"
        },
        "id": "va0feltPxz6o",
        "outputId": "184492cf-65db-461f-c1cf-6fe5713db681"
      },
      "outputs": [
        {
          "output_type": "stream",
          "name": "stdout",
          "text": [
            "0.69180655\n",
            "19.761791\n",
            "0.12887792862463054\n"
          ]
        }
      ],
      "source": [
        "from sklearn.metrics import mean_absolute_percentage_error, mean_absolute_error\n",
        "\n",
        "errors = (tf.squeeze(y_pred) / y_test- 1) * 100\n",
        "print(np.mean(errors))\n",
        "print(np.std(errors))\n",
        "print(mean_absolute_percentage_error(y_test, y_pred))\n",
        "\n",
        "\"\"\"\n",
        "0.69180655\n",
        "19.761791\n",
        "0.12887792862463054\n",
        "\"\"\";"
      ]
    },
    {
      "cell_type": "code",
      "execution_count": 97,
      "metadata": {
        "colab": {
          "base_uri": "https://localhost:8080/",
          "height": 518
        },
        "id": "ALe8YlDkx3Pk",
        "outputId": "121f6d47-02bc-4b43-8220-7815697563a6"
      },
      "outputs": [
        {
          "output_type": "stream",
          "name": "stdout",
          "text": [
            "-23.505915 33.23022\n",
            "171\n",
            "171\n",
            "3076\n"
          ]
        },
        {
          "output_type": "display_data",
          "data": {
            "text/plain": [
              "<Figure size 640x480 with 1 Axes>"
            ],
            "image/png": "[encoded data removed]"
          },
          "metadata": {}
        }
      ],
      "source": [
        "import matplotlib.pyplot as plt\n",
        "percentiles = np.percentile(errors, [5,95])\n",
        "\n",
        "errors = np.sort(errors)\n",
        "\n",
        "group1 = errors[errors <= percentiles[0]]\n",
        "group2 = errors[errors >= percentiles[1]]\n",
        "group3 = errors[(errors < percentiles[1]) & (errors > percentiles[0])]\n",
        "\n",
        "print(min(group3), max(group3)) # -23.505915 33.23022 (For 100,64 architecture)\n",
        "\n",
        "plt.hist(group1, bins= np.arange(min(group1),max(group1 + 10),10), color='lightgray', edgecolor='black')\n",
        "plt.hist(group2, bins= np.arange(min(group2),max(group2 + 10),10), color='lightgray', edgecolor='black')\n",
        "plt.hist(group3, bins= np.arange(min(group3),max(group3 + 10),10), color='skyblue', edgecolor='black')\n",
        "plt.xlabel('Error')\n",
        "plt.ylabel('Frequency')\n",
        "plt.show();"
      ]
    }
  ],
  "metadata": {
    "colab": {
      "collapsed_sections": [
        "g0denZcBygwl"
      ],
      "provenance": [],
      "authorship_tag": "ABX9TyPv1hz4m4np90Njqd/phTkt",
      "include_colab_link": true
    },
    "kernelspec": {
      "display_name": "Python 3",
      "name": "python3"
    },
    "language_info": {
      "name": "python"
    }
  },
  "nbformat": 4,
  "nbformat_minor": 0
}